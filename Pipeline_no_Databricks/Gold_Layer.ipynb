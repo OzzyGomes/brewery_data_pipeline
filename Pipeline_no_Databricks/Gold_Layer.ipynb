{
 "cells": [
  {
   "cell_type": "markdown",
   "metadata": {
    "application/vnd.databricks.v1+cell": {
     "cellMetadata": {},
     "inputWidgets": {},
     "nuid": "49c13e57-e673-42e8-8317-5515003fae0b",
     "showTitle": false,
     "tableResultSettingsMap": {},
     "title": ""
    }
   },
   "source": [
    "#Breweries Project Pipeline Silver\n",
    "\n",
    "This project aims to create a pipeline for breweries of the AB InBev Group.\n",
    "\n",
    "\n",
    "**Responsible Engineer: Ozeas Gomes <p>\n",
    "Created on: 02/14/2025 <p>\n",
    "Last updated: 02/14/2025 <p>**"
   ]
  },
  {
   "cell_type": "markdown",
   "metadata": {
    "application/vnd.databricks.v1+cell": {
     "cellMetadata": {},
     "inputWidgets": {},
     "nuid": "be5591c0-1c1d-4291-8b41-ac9050dc5101",
     "showTitle": false,
     "tableResultSettingsMap": {},
     "title": ""
    }
   },
   "source": [
    "####Installing Required Dependencies"
   ]
  },
  {
   "cell_type": "markdown",
   "metadata": {
    "application/vnd.databricks.v1+cell": {
     "cellMetadata": {},
     "inputWidgets": {},
     "nuid": "6678a733-2978-4aca-8125-65ea46c81485",
     "showTitle": false,
     "tableResultSettingsMap": {},
     "title": ""
    }
   },
   "source": [
    "####Importing Dependencies"
   ]
  },
  {
   "cell_type": "code",
   "execution_count": 0,
   "metadata": {
    "application/vnd.databricks.v1+cell": {
     "cellMetadata": {
      "byteLimit": 2048000,
      "rowLimit": 10000
     },
     "inputWidgets": {},
     "nuid": "845aba6d-518a-4ee3-aac5-0ebdb285b467",
     "showTitle": false,
     "tableResultSettingsMap": {},
     "title": ""
    },
    "jupyter": {
     "outputs_hidden": true
    }
   },
   "outputs": [],
   "source": [
    "%run /Users/ozeasjgomes@gmail.com/brewery_data_pipeline/pipeline_functions\n"
   ]
  },
  {
   "cell_type": "code",
   "execution_count": 0,
   "metadata": {
    "application/vnd.databricks.v1+cell": {
     "cellMetadata": {
      "byteLimit": 2048000,
      "rowLimit": 10000
     },
     "inputWidgets": {},
     "nuid": "ca70b198-bc97-4cb4-b1b4-9aac598ee09c",
     "showTitle": false,
     "tableResultSettingsMap": {},
     "title": ""
    }
   },
   "outputs": [],
   "source": [
    "from pyspark.sql.functions import col, trim, when, lit, regexp_replace\n",
    "from pyspark.sql.types import StructType, StructField, StringType, IntegerType, DoubleType, DateType\n"
   ]
  },
  {
   "cell_type": "markdown",
   "metadata": {
    "application/vnd.databricks.v1+cell": {
     "cellMetadata": {},
     "inputWidgets": {},
     "nuid": "88a3d14c-2175-4679-8d6e-ec457db6c61e",
     "showTitle": false,
     "tableResultSettingsMap": {},
     "title": ""
    }
   },
   "source": [
    "####Reading data"
   ]
  },
  {
   "cell_type": "code",
   "execution_count": 0,
   "metadata": {
    "application/vnd.databricks.v1+cell": {
     "cellMetadata": {
      "byteLimit": 2048000,
      "rowLimit": 10000
     },
     "inputWidgets": {},
     "nuid": "aa080f5e-6a79-4806-91ab-c2ea6fc91f66",
     "showTitle": false,
     "tableResultSettingsMap": {},
     "title": ""
    }
   },
   "outputs": [],
   "source": [
    "gold_breweries_df = spark.read.format(\"delta\").load(\"/dbfs/FileStore/project_breweries/silver/breweries_delta\")"
   ]
  },
  {
   "cell_type": "markdown",
   "metadata": {
    "application/vnd.databricks.v1+cell": {
     "cellMetadata": {},
     "inputWidgets": {},
     "nuid": "fc7b836d-a4f5-442a-afa3-673b76268f21",
     "showTitle": false,
     "tableResultSettingsMap": {},
     "title": ""
    }
   },
   "source": [
    "## Aggregations for the Gold Layer:\n",
    "### Count of Breweries by Type (brewery_type):"
   ]
  },
  {
   "cell_type": "code",
   "execution_count": 0,
   "metadata": {
    "application/vnd.databricks.v1+cell": {
     "cellMetadata": {
      "byteLimit": 2048000,
      "rowLimit": 10000
     },
     "inputWidgets": {},
     "nuid": "26f06a49-6e3d-4bcb-a749-51ebfb5f69b3",
     "showTitle": false,
     "tableResultSettingsMap": {},
     "title": ""
    }
   },
   "outputs": [
    {
     "output_type": "display_data",
     "data": {
      "text/html": [
       "<style scoped>\n",
       "  .table-result-container {\n",
       "    max-height: 300px;\n",
       "    overflow: auto;\n",
       "  }\n",
       "  table, th, td {\n",
       "    border: 1px solid black;\n",
       "    border-collapse: collapse;\n",
       "  }\n",
       "  th, td {\n",
       "    padding: 5px;\n",
       "  }\n",
       "  th {\n",
       "    text-align: left;\n",
       "  }\n",
       "</style><div class='table-result-container'><table class='table-result'><thead style='background-color: white'><tr><th>brewery_type</th><th>quantidade_cervejarias</th></tr></thead><tbody><tr><td>brewpub</td><td>2500</td></tr><tr><td>beergarden</td><td>3</td></tr><tr><td>bar</td><td>35</td></tr><tr><td>proprietor</td><td>69</td></tr><tr><td>regional</td><td>225</td></tr><tr><td>contract</td><td>192</td></tr><tr><td>location</td><td>1</td></tr><tr><td>closed</td><td>216</td></tr><tr><td>nano</td><td>13</td></tr><tr><td>micro</td><td>4308</td></tr><tr><td>taproom</td><td>20</td></tr><tr><td>planning</td><td>682</td></tr><tr><td>large</td><td>89</td></tr></tbody></table></div>"
      ]
     },
     "metadata": {
      "application/vnd.databricks.v1+output": {
       "addedWidgets": {},
       "aggData": [],
       "aggError": "",
       "aggOverflow": false,
       "aggSchema": [],
       "aggSeriesLimitReached": false,
       "aggType": "",
       "arguments": {},
       "columnCustomDisplayInfos": {},
       "data": [
        [
         "brewpub",
         2500
        ],
        [
         "beergarden",
         3
        ],
        [
         "bar",
         35
        ],
        [
         "proprietor",
         69
        ],
        [
         "regional",
         225
        ],
        [
         "contract",
         192
        ],
        [
         "location",
         1
        ],
        [
         "closed",
         216
        ],
        [
         "nano",
         13
        ],
        [
         "micro",
         4308
        ],
        [
         "taproom",
         20
        ],
        [
         "planning",
         682
        ],
        [
         "large",
         89
        ]
       ],
       "datasetInfos": [],
       "dbfsResultPath": null,
       "isJsonSchema": true,
       "metadata": {},
       "overflow": false,
       "plotOptions": {
        "customPlotOptions": {},
        "displayType": "table",
        "pivotAggregation": null,
        "pivotColumns": null,
        "xColumns": null,
        "yColumns": null
       },
       "removedWidgets": [],
       "schema": [
        {
         "metadata": "{}",
         "name": "brewery_type",
         "type": "\"string\""
        },
        {
         "metadata": "{}",
         "name": "quantidade_cervejarias",
         "type": "\"long\""
        }
       ],
       "type": "table"
      }
     },
     "output_type": "display_data"
    }
   ],
   "source": [
    "# Aggregation by brewery type\n",
    "\n",
    "gold_brewery_type = gold_breweries_df.groupBy(\"brewery_type\").count() \\\n",
    "                             .withColumnRenamed(\"count\", \"quantidade_cervejarias\")\n",
    "\n",
    "# Displaying the result\n",
    "#gold_brewery_type.display()"
   ]
  },
  {
   "cell_type": "markdown",
   "metadata": {
    "application/vnd.databricks.v1+cell": {
     "cellMetadata": {},
     "inputWidgets": {},
     "nuid": "80e09af6-6364-4de5-bb19-f634ce5c6545",
     "showTitle": false,
     "tableResultSettingsMap": {},
     "title": ""
    }
   },
   "source": [
    "### Count of Breweries by Location (city, state, and country)"
   ]
  },
  {
   "cell_type": "code",
   "execution_count": 0,
   "metadata": {
    "application/vnd.databricks.v1+cell": {
     "cellMetadata": {
      "byteLimit": 2048000,
      "rowLimit": 10000
     },
     "inputWidgets": {},
     "nuid": "8cd981d0-822b-4efd-ba2b-06dc6d558fdb",
     "showTitle": false,
     "tableResultSettingsMap": {},
     "title": ""
    }
   },
   "outputs": [
    {
     "output_type": "display_data",
     "data": {
      "text/html": [
       "<style scoped>\n",
       "  .table-result-container {\n",
       "    max-height: 300px;\n",
       "    overflow: auto;\n",
       "  }\n",
       "  table, th, td {\n",
       "    border: 1px solid black;\n",
       "    border-collapse: collapse;\n",
       "  }\n",
       "  th, td {\n",
       "    padding: 5px;\n",
       "  }\n",
       "  th {\n",
       "    text-align: left;\n",
       "  }\n",
       "</style><div class='table-result-container'><table class='table-result'><thead style='background-color: white'><tr><th>state</th><th>country</th><th>quantidade_cervejarias</th></tr></thead><tbody><tr><td>Idaho</td><td>United States</td><td>67</td></tr><tr><td>Portalegre</td><td>Portugal</td><td>1</td></tr><tr><td>Louisiana</td><td>United States</td><td>44</td></tr><tr><td>Illinois</td><td>United States</td><td>257</td></tr><tr><td>Missouri</td><td>United States</td><td>141</td></tr><tr><td>Colorado</td><td>United States</td><td>448</td></tr><tr><td>Gangwondo</td><td>South Korea</td><td>7</td></tr><tr><td>Westmeath</td><td>Ireland</td><td>1</td></tr><tr><td>Longford</td><td>Ireland</td><td>1</td></tr><tr><td>Oklahoma</td><td>United States</td><td>44</td></tr><tr><td>East Dunbartonshire</td><td>Scotland</td><td>1</td></tr><tr><td>District of Columbia</td><td>United States</td><td>16</td></tr><tr><td>Blekinge</td><td>Sweden</td><td>6</td></tr><tr><td>Massachusetts</td><td>United States</td><td>163</td></tr><tr><td>Galway</td><td>Ireland</td><td>3</td></tr><tr><td>Gyeongsangnamdo</td><td>South Korea</td><td>3</td></tr><tr><td>K�rnten</td><td>Austria</td><td>3</td></tr><tr><td>Vermont</td><td>United States</td><td>59</td></tr><tr><td>New York</td><td>United States</td><td>419</td></tr><tr><td>New Jersey</td><td>United States</td><td>115</td></tr><tr><td>Monaghan</td><td>Ireland</td><td>1</td></tr><tr><td>Jeollabukdo</td><td>South Korea</td><td>3</td></tr><tr><td>Wyoming</td><td>United States</td><td>52</td></tr><tr><td>Cork</td><td>Ireland</td><td>11</td></tr><tr><td>Delaware</td><td>United States</td><td>28</td></tr><tr><td>Oregon</td><td>United States</td><td>295</td></tr><tr><td>Chungcheongnamdo</td><td>South Korea</td><td>3</td></tr><tr><td>Busan</td><td>South Korea</td><td>9</td></tr><tr><td>Middle</td><td>Isle of Man</td><td>2</td></tr><tr><td>Gwangju</td><td>South Korea</td><td>1</td></tr><tr><td>Rhode Island</td><td>United States</td><td>31</td></tr><tr><td>Jeollanamdo</td><td>South Korea</td><td>1</td></tr><tr><td>Alaska</td><td>United States</td><td>51</td></tr><tr><td>North Carolina</td><td>United States</td><td>307</td></tr><tr><td>Dublin</td><td>Ireland</td><td>16</td></tr><tr><td>Coimbra</td><td>Portugal</td><td>1</td></tr><tr><td>West Virginia</td><td>United States</td><td>40</td></tr><tr><td>Lisboa</td><td>Portugal</td><td>5</td></tr><tr><td>Kilkenny</td><td>Ireland</td><td>3</td></tr><tr><td>Halland</td><td>Sweden</td><td>4</td></tr><tr><td>Nieder�sterreich</td><td>Austria</td><td>2</td></tr><tr><td>Wisconsin</td><td>United States</td><td>225</td></tr><tr><td>New Mexico</td><td>United States</td><td>83</td></tr><tr><td>Ohio</td><td>United States</td><td>303</td></tr><tr><td>Berlin</td><td>Germany</td><td>7</td></tr><tr><td>Washington</td><td>United States</td><td>486</td></tr><tr><td>Hawaii</td><td>United States</td><td>23</td></tr><tr><td>Arkansas</td><td>United States</td><td>45</td></tr><tr><td>West Sussex</td><td>England</td><td>31</td></tr><tr><td>Texas</td><td>United States</td><td>352</td></tr><tr><td>Incheon</td><td>South Korea</td><td>2</td></tr><tr><td>Iowa</td><td>United States</td><td>91</td></tr><tr><td>Carlow</td><td>Ireland</td><td>1</td></tr><tr><td>Porto</td><td>Portugal</td><td>2</td></tr><tr><td>Indiana</td><td>United States</td><td>162</td></tr><tr><td>Nebraska</td><td>United States</td><td>62</td></tr><tr><td>Maryland</td><td>United States</td><td>109</td></tr><tr><td>Georgia</td><td>United States</td><td>100</td></tr><tr><td>Wicklow</td><td>Ireland</td><td>3</td></tr><tr><td>California</td><td>United States</td><td>917</td></tr><tr><td>Kerry</td><td>Ireland</td><td>3</td></tr><tr><td>Seoul</td><td>South Korea</td><td>14</td></tr><tr><td>Minnesota</td><td>United States</td><td>183</td></tr><tr><td>Gyeonggido</td><td>South Korea</td><td>9</td></tr><tr><td>dolnośląskie</td><td>Poland</td><td>34</td></tr><tr><td>Michigan</td><td>United States</td><td>375</td></tr><tr><td>Virginia</td><td>United States</td><td>254</td></tr><tr><td>Kentucky</td><td>United States</td><td>58</td></tr><tr><td>South Dakota</td><td>United States</td><td>45</td></tr><tr><td>Alabama</td><td>United States</td><td>45</td></tr><tr><td>New Hampshire</td><td>United States</td><td>80</td></tr><tr><td>Tennessee</td><td>United States</td><td>111</td></tr><tr><td>Maine</td><td>United States</td><td>114</td></tr><tr><td>Beja</td><td>Portugal</td><td>1</td></tr><tr><td>East Sussex</td><td>England</td><td>31</td></tr><tr><td>Kansas</td><td>United States</td><td>47</td></tr><tr><td>West Dunbartonshire</td><td>Scotland</td><td>4</td></tr><tr><td>Offaly</td><td>Ireland</td><td>2</td></tr><tr><td>South Carolina</td><td>United States</td><td>79</td></tr><tr><td>Jejudo</td><td>South Korea</td><td>3</td></tr><tr><td>North Dakota</td><td>United States</td><td>26</td></tr><tr><td>Pennsylvania</td><td>United States</td><td>345</td></tr><tr><td>Clare</td><td>Ireland</td><td>1</td></tr><tr><td>Laois</td><td>Ireland</td><td>2</td></tr><tr><td>Florida</td><td>United States</td><td>312</td></tr><tr><td>Montana</td><td>United States</td><td>92</td></tr><tr><td>Steiermark</td><td>Austria</td><td>7</td></tr><tr><td>Nevada</td><td>United States</td><td>51</td></tr><tr><td>Utah</td><td>United States</td><td>45</td></tr><tr><td>Arizona</td><td>United States</td><td>124</td></tr><tr><td>Sligo</td><td>Ireland</td><td>2</td></tr><tr><td>Singapore</td><td>Singapore</td><td>33</td></tr><tr><td>Tipperary</td><td>Ireland</td><td>2</td></tr><tr><td>Waterford</td><td>Ireland</td><td>2</td></tr><tr><td>Aveiro</td><td>Portugal</td><td>2</td></tr><tr><td>Connecticut</td><td>United States</td><td>94</td></tr><tr><td>Mississippi</td><td>United States</td><td>17</td></tr><tr><td>Leiria</td><td>Portugal</td><td>1</td></tr><tr><td>Louth</td><td>Ireland</td><td>1</td></tr><tr><td>Gyeongsangbukdo</td><td>South Korea</td><td>3</td></tr><tr><td>Bouche du Rhône</td><td>France</td><td>3</td></tr><tr><td>MIssouri</td><td>United States</td><td>1</td></tr><tr><td>Mayo</td><td>Ireland</td><td>2</td></tr><tr><td>Deagu</td><td>South Korea</td><td>1</td></tr><tr><td>Argyll</td><td>Scotland</td><td>4</td></tr><tr><td>Oberösterreich</td><td>Austria</td><td>2</td></tr><tr><td>Bute</td><td>Scotland</td><td>1</td></tr><tr><td>Donegal</td><td>Ireland</td><td>4</td></tr><tr><td>Wexford</td><td>Ireland</td><td>2</td></tr><tr><td>Limerick</td><td>Ireland</td><td>2</td></tr><tr><td>Daejeon</td><td>South Korea</td><td>1</td></tr><tr><td>Meath</td><td>Ireland</td><td>1</td></tr><tr><td>Roscommon</td><td>Ireland</td><td>1</td></tr><tr><td>Kildare</td><td>Ireland</td><td>3</td></tr><tr><td>Faro</td><td>Portugal</td><td>1</td></tr><tr><td>Chungcheongbukdo</td><td>South Korea</td><td>1</td></tr></tbody></table></div>"
      ]
     },
     "metadata": {
      "application/vnd.databricks.v1+output": {
       "addedWidgets": {},
       "aggData": [],
       "aggError": "",
       "aggOverflow": false,
       "aggSchema": [],
       "aggSeriesLimitReached": false,
       "aggType": "",
       "arguments": {},
       "columnCustomDisplayInfos": {},
       "data": [
        [
         "Idaho",
         "United States",
         67
        ],
        [
         "Portalegre",
         "Portugal",
         1
        ],
        [
         "Louisiana",
         "United States",
         44
        ],
        [
         "Illinois",
         "United States",
         257
        ],
        [
         "Missouri",
         "United States",
         141
        ],
        [
         "Colorado",
         "United States",
         448
        ],
        [
         "Gangwondo",
         "South Korea",
         7
        ],
        [
         "Westmeath",
         "Ireland",
         1
        ],
        [
         "Longford",
         "Ireland",
         1
        ],
        [
         "Oklahoma",
         "United States",
         44
        ],
        [
         "East Dunbartonshire",
         "Scotland",
         1
        ],
        [
         "District of Columbia",
         "United States",
         16
        ],
        [
         "Blekinge",
         "Sweden",
         6
        ],
        [
         "Massachusetts",
         "United States",
         163
        ],
        [
         "Galway",
         "Ireland",
         3
        ],
        [
         "Gyeongsangnamdo",
         "South Korea",
         3
        ],
        [
         "K�rnten",
         "Austria",
         3
        ],
        [
         "Vermont",
         "United States",
         59
        ],
        [
         "New York",
         "United States",
         419
        ],
        [
         "New Jersey",
         "United States",
         115
        ],
        [
         "Monaghan",
         "Ireland",
         1
        ],
        [
         "Jeollabukdo",
         "South Korea",
         3
        ],
        [
         "Wyoming",
         "United States",
         52
        ],
        [
         "Cork",
         "Ireland",
         11
        ],
        [
         "Delaware",
         "United States",
         28
        ],
        [
         "Oregon",
         "United States",
         295
        ],
        [
         "Chungcheongnamdo",
         "South Korea",
         3
        ],
        [
         "Busan",
         "South Korea",
         9
        ],
        [
         "Middle",
         "Isle of Man",
         2
        ],
        [
         "Gwangju",
         "South Korea",
         1
        ],
        [
         "Rhode Island",
         "United States",
         31
        ],
        [
         "Jeollanamdo",
         "South Korea",
         1
        ],
        [
         "Alaska",
         "United States",
         51
        ],
        [
         "North Carolina",
         "United States",
         307
        ],
        [
         "Dublin",
         "Ireland",
         16
        ],
        [
         "Coimbra",
         "Portugal",
         1
        ],
        [
         "West Virginia",
         "United States",
         40
        ],
        [
         "Lisboa",
         "Portugal",
         5
        ],
        [
         "Kilkenny",
         "Ireland",
         3
        ],
        [
         "Halland",
         "Sweden",
         4
        ],
        [
         "Nieder�sterreich",
         "Austria",
         2
        ],
        [
         "Wisconsin",
         "United States",
         225
        ],
        [
         "New Mexico",
         "United States",
         83
        ],
        [
         "Ohio",
         "United States",
         303
        ],
        [
         "Berlin",
         "Germany",
         7
        ],
        [
         "Washington",
         "United States",
         486
        ],
        [
         "Hawaii",
         "United States",
         23
        ],
        [
         "Arkansas",
         "United States",
         45
        ],
        [
         "West Sussex",
         "England",
         31
        ],
        [
         "Texas",
         "United States",
         352
        ],
        [
         "Incheon",
         "South Korea",
         2
        ],
        [
         "Iowa",
         "United States",
         91
        ],
        [
         "Carlow",
         "Ireland",
         1
        ],
        [
         "Porto",
         "Portugal",
         2
        ],
        [
         "Indiana",
         "United States",
         162
        ],
        [
         "Nebraska",
         "United States",
         62
        ],
        [
         "Maryland",
         "United States",
         109
        ],
        [
         "Georgia",
         "United States",
         100
        ],
        [
         "Wicklow",
         "Ireland",
         3
        ],
        [
         "California",
         "United States",
         917
        ],
        [
         "Kerry",
         "Ireland",
         3
        ],
        [
         "Seoul",
         "South Korea",
         14
        ],
        [
         "Minnesota",
         "United States",
         183
        ],
        [
         "Gyeonggido",
         "South Korea",
         9
        ],
        [
         "dolnośląskie",
         "Poland",
         34
        ],
        [
         "Michigan",
         "United States",
         375
        ],
        [
         "Virginia",
         "United States",
         254
        ],
        [
         "Kentucky",
         "United States",
         58
        ],
        [
         "South Dakota",
         "United States",
         45
        ],
        [
         "Alabama",
         "United States",
         45
        ],
        [
         "New Hampshire",
         "United States",
         80
        ],
        [
         "Tennessee",
         "United States",
         111
        ],
        [
         "Maine",
         "United States",
         114
        ],
        [
         "Beja",
         "Portugal",
         1
        ],
        [
         "East Sussex",
         "England",
         31
        ],
        [
         "Kansas",
         "United States",
         47
        ],
        [
         "West Dunbartonshire",
         "Scotland",
         4
        ],
        [
         "Offaly",
         "Ireland",
         2
        ],
        [
         "South Carolina",
         "United States",
         79
        ],
        [
         "Jejudo",
         "South Korea",
         3
        ],
        [
         "North Dakota",
         "United States",
         26
        ],
        [
         "Pennsylvania",
         "United States",
         345
        ],
        [
         "Clare",
         "Ireland",
         1
        ],
        [
         "Laois",
         "Ireland",
         2
        ],
        [
         "Florida",
         "United States",
         312
        ],
        [
         "Montana",
         "United States",
         92
        ],
        [
         "Steiermark",
         "Austria",
         7
        ],
        [
         "Nevada",
         "United States",
         51
        ],
        [
         "Utah",
         "United States",
         45
        ],
        [
         "Arizona",
         "United States",
         124
        ],
        [
         "Sligo",
         "Ireland",
         2
        ],
        [
         "Singapore",
         "Singapore",
         33
        ],
        [
         "Tipperary",
         "Ireland",
         2
        ],
        [
         "Waterford",
         "Ireland",
         2
        ],
        [
         "Aveiro",
         "Portugal",
         2
        ],
        [
         "Connecticut",
         "United States",
         94
        ],
        [
         "Mississippi",
         "United States",
         17
        ],
        [
         "Leiria",
         "Portugal",
         1
        ],
        [
         "Louth",
         "Ireland",
         1
        ],
        [
         "Gyeongsangbukdo",
         "South Korea",
         3
        ],
        [
         "Bouche du Rhône",
         "France",
         3
        ],
        [
         "MIssouri",
         "United States",
         1
        ],
        [
         "Mayo",
         "Ireland",
         2
        ],
        [
         "Deagu",
         "South Korea",
         1
        ],
        [
         "Argyll",
         "Scotland",
         4
        ],
        [
         "Oberösterreich",
         "Austria",
         2
        ],
        [
         "Bute",
         "Scotland",
         1
        ],
        [
         "Donegal",
         "Ireland",
         4
        ],
        [
         "Wexford",
         "Ireland",
         2
        ],
        [
         "Limerick",
         "Ireland",
         2
        ],
        [
         "Daejeon",
         "South Korea",
         1
        ],
        [
         "Meath",
         "Ireland",
         1
        ],
        [
         "Roscommon",
         "Ireland",
         1
        ],
        [
         "Kildare",
         "Ireland",
         3
        ],
        [
         "Faro",
         "Portugal",
         1
        ],
        [
         "Chungcheongbukdo",
         "South Korea",
         1
        ]
       ],
       "datasetInfos": [],
       "dbfsResultPath": null,
       "isJsonSchema": true,
       "metadata": {},
       "overflow": false,
       "plotOptions": {
        "customPlotOptions": {},
        "displayType": "table",
        "pivotAggregation": null,
        "pivotColumns": null,
        "xColumns": null,
        "yColumns": null
       },
       "removedWidgets": [],
       "schema": [
        {
         "metadata": "{}",
         "name": "state",
         "type": "\"string\""
        },
        {
         "metadata": "{}",
         "name": "country",
         "type": "\"string\""
        },
        {
         "metadata": "{}",
         "name": "quantidade_cervejarias",
         "type": "\"long\""
        }
       ],
       "type": "table"
      }
     },
     "output_type": "display_data"
    }
   ],
   "source": [
    "# Aggregation by location (city, state, country)\n",
    "gold_location = gold_breweries_df.groupBy(\"state\", \"country\").count() \\\n",
    "                          .withColumnRenamed(\"count\", \"quantidade_cervejarias\")\n",
    "\n",
    "\n",
    "# Displaying the result\n",
    "#gold_location.display()"
   ]
  },
  {
   "cell_type": "markdown",
   "metadata": {
    "application/vnd.databricks.v1+cell": {
     "cellMetadata": {},
     "inputWidgets": {},
     "nuid": "a8bc41a9-2a9b-400b-b824-dd0111b0d520",
     "showTitle": false,
     "tableResultSettingsMap": {},
     "title": ""
    }
   },
   "source": [
    "### Count of Breweries by Type and Location"
   ]
  },
  {
   "cell_type": "code",
   "execution_count": 0,
   "metadata": {
    "application/vnd.databricks.v1+cell": {
     "cellMetadata": {
      "byteLimit": 2048000,
      "rowLimit": 10000
     },
     "inputWidgets": {},
     "nuid": "a31200e1-4dfb-432f-9be8-56d507152b15",
     "showTitle": false,
     "tableResultSettingsMap": {},
     "title": ""
    }
   },
   "outputs": [
    {
     "output_type": "display_data",
     "data": {
      "text/html": [
       "<style scoped>\n",
       "  .table-result-container {\n",
       "    max-height: 300px;\n",
       "    overflow: auto;\n",
       "  }\n",
       "  table, th, td {\n",
       "    border: 1px solid black;\n",
       "    border-collapse: collapse;\n",
       "  }\n",
       "  th, td {\n",
       "    padding: 5px;\n",
       "  }\n",
       "  th {\n",
       "    text-align: left;\n",
       "  }\n",
       "</style><div class='table-result-container'><table class='table-result'><thead style='background-color: white'><tr><th>brewery_type</th><th>state</th><th>country</th><th>quantidade_cervejarias</th></tr></thead><tbody><tr><td>contract</td><td>New York</td><td>United States</td><td>22</td></tr><tr><td>planning</td><td>Arizona</td><td>United States</td><td>13</td></tr><tr><td>micro</td><td>Kentucky</td><td>United States</td><td>41</td></tr><tr><td>micro</td><td>Oklahoma</td><td>United States</td><td>30</td></tr><tr><td>brewpub</td><td>Gwangju</td><td>South Korea</td><td>1</td></tr><tr><td>proprietor</td><td>Georgia</td><td>United States</td><td>1</td></tr><tr><td>brewpub</td><td>Seoul</td><td>South Korea</td><td>14</td></tr><tr><td>regional</td><td>Arizona</td><td>United States</td><td>1</td></tr><tr><td>contract</td><td>Arkansas</td><td>United States</td><td>1</td></tr><tr><td>large</td><td>Washington</td><td>United States</td><td>3</td></tr><tr><td>brewpub</td><td>Jeollabukdo</td><td>South Korea</td><td>3</td></tr><tr><td>planning</td><td>District of Columbia</td><td>United States</td><td>2</td></tr><tr><td>brewpub</td><td>Kentucky</td><td>United States</td><td>12</td></tr><tr><td>planning</td><td>Michigan</td><td>United States</td><td>21</td></tr><tr><td>large</td><td>New York</td><td>United States</td><td>4</td></tr><tr><td>brewpub</td><td>Massachusetts</td><td>United States</td><td>34</td></tr><tr><td>micro</td><td>Porto</td><td>Portugal</td><td>1</td></tr><tr><td>micro</td><td>East Sussex</td><td>England</td><td>21</td></tr><tr><td>planning</td><td>Texas</td><td>United States</td><td>56</td></tr><tr><td>contract</td><td>Minnesota</td><td>United States</td><td>5</td></tr><tr><td>closed</td><td>Hawaii</td><td>United States</td><td>3</td></tr><tr><td>micro</td><td>District of Columbia</td><td>United States</td><td>5</td></tr><tr><td>micro</td><td>Utah</td><td>United States</td><td>21</td></tr><tr><td>planning</td><td>Louisiana</td><td>United States</td><td>8</td></tr><tr><td>contract</td><td>Pennsylvania</td><td>United States</td><td>6</td></tr><tr><td>proprietor</td><td>California</td><td>United States</td><td>13</td></tr><tr><td>micro</td><td>Illinois</td><td>United States</td><td>123</td></tr><tr><td>large</td><td>Missouri</td><td>United States</td><td>1</td></tr><tr><td>brewpub</td><td>South Carolina</td><td>United States</td><td>29</td></tr><tr><td>contract</td><td>Kentucky</td><td>United States</td><td>1</td></tr><tr><td>regional</td><td>California</td><td>United States</td><td>29</td></tr><tr><td>planning</td><td>New Jersey</td><td>United States</td><td>14</td></tr><tr><td>proprietor</td><td>Wisconsin</td><td>United States</td><td>2</td></tr><tr><td>proprietor</td><td>Illinois</td><td>United States</td><td>5</td></tr><tr><td>brewpub</td><td>Beja</td><td>Portugal</td><td>1</td></tr><tr><td>planning</td><td>Washington</td><td>United States</td><td>5</td></tr><tr><td>planning</td><td>Illinois</td><td>United States</td><td>23</td></tr><tr><td>nano</td><td>West Virginia</td><td>United States</td><td>1</td></tr><tr><td>regional</td><td>Oregon</td><td>United States</td><td>13</td></tr><tr><td>brewpub</td><td>Ohio</td><td>United States</td><td>94</td></tr><tr><td>micro</td><td>Nevada</td><td>United States</td><td>22</td></tr><tr><td>closed</td><td>Wisconsin</td><td>United States</td><td>10</td></tr><tr><td>micro</td><td>North Dakota</td><td>United States</td><td>12</td></tr><tr><td>planning</td><td>Arkansas</td><td>United States</td><td>4</td></tr><tr><td>brewpub</td><td>Gangwondo</td><td>South Korea</td><td>7</td></tr><tr><td>contract</td><td>New Hampshire</td><td>United States</td><td>1</td></tr><tr><td>micro</td><td>Vermont</td><td>United States</td><td>34</td></tr><tr><td>regional</td><td>Texas</td><td>United States</td><td>10</td></tr><tr><td>planning</td><td>New York</td><td>United States</td><td>37</td></tr><tr><td>brewpub</td><td>Pennsylvania</td><td>United States</td><td>158</td></tr><tr><td>planning</td><td>Florida</td><td>United States</td><td>38</td></tr><tr><td>micro</td><td>Aveiro</td><td>Portugal</td><td>1</td></tr><tr><td>brewpub</td><td>Kansas</td><td>United States</td><td>20</td></tr><tr><td>large</td><td>Arizona</td><td>United States</td><td>2</td></tr><tr><td>planning</td><td>Alabama</td><td>United States</td><td>8</td></tr><tr><td>planning</td><td>Montana</td><td>United States</td><td>10</td></tr><tr><td>proprietor</td><td>Missouri</td><td>United States</td><td>3</td></tr><tr><td>contract</td><td>Nevada</td><td>United States</td><td>3</td></tr><tr><td>micro</td><td>Wyoming</td><td>United States</td><td>24</td></tr><tr><td>planning</td><td>South Carolina</td><td>United States</td><td>8</td></tr><tr><td>regional</td><td>New Mexico</td><td>United States</td><td>2</td></tr><tr><td>brewpub</td><td>Utah</td><td>United States</td><td>15</td></tr><tr><td>micro</td><td>Halland</td><td>Sweden</td><td>4</td></tr><tr><td>contract</td><td>New Jersey</td><td>United States</td><td>4</td></tr><tr><td>micro</td><td>South Carolina</td><td>United States</td><td>38</td></tr><tr><td>brewpub</td><td>Arkansas</td><td>United States</td><td>18</td></tr><tr><td>proprietor</td><td>Massachusetts</td><td>United States</td><td>2</td></tr><tr><td>micro</td><td>Indiana</td><td>United States</td><td>60</td></tr><tr><td>regional</td><td>Wyoming</td><td>United States</td><td>1</td></tr><tr><td>planning</td><td>Colorado</td><td>United States</td><td>39</td></tr><tr><td>brewpub</td><td>North Carolina</td><td>United States</td><td>73</td></tr><tr><td>brewpub</td><td>Chungcheongnamdo</td><td>South Korea</td><td>1</td></tr><tr><td>micro</td><td>Colorado</td><td>United States</td><td>228</td></tr><tr><td>micro</td><td>Texas</td><td>United States</td><td>196</td></tr><tr><td>micro</td><td>Alaska</td><td>United States</td><td>29</td></tr><tr><td>closed</td><td>California</td><td>United States</td><td>51</td></tr><tr><td>regional</td><td>Minnesota</td><td>United States</td><td>8</td></tr><tr><td>nano</td><td>K�rnten</td><td>Austria</td><td>1</td></tr><tr><td>regional</td><td>Georgia</td><td>United States</td><td>3</td></tr><tr><td>beergarden</td><td>Berlin</td><td>Germany</td><td>3</td></tr><tr><td>contract</td><td>Massachusetts</td><td>United States</td><td>8</td></tr><tr><td>contract</td><td>Alabama</td><td>United States</td><td>1</td></tr><tr><td>regional</td><td>Pennsylvania</td><td>United States</td><td>13</td></tr><tr><td>brewpub</td><td>Singapore</td><td>Singapore</td><td>4</td></tr><tr><td>brewpub</td><td>Lisboa</td><td>Portugal</td><td>2</td></tr><tr><td>contract</td><td>Maryland</td><td>United States</td><td>6</td></tr><tr><td>brewpub</td><td>East Sussex</td><td>England</td><td>5</td></tr><tr><td>micro</td><td>Tipperary</td><td>Ireland</td><td>2</td></tr><tr><td>micro</td><td>South Dakota</td><td>United States</td><td>24</td></tr><tr><td>micro</td><td>Lisboa</td><td>Portugal</td><td>3</td></tr><tr><td>micro</td><td>Arizona</td><td>United States</td><td>58</td></tr><tr><td>planning</td><td>Nebraska</td><td>United States</td><td>4</td></tr><tr><td>planning</td><td>Missouri</td><td>United States</td><td>3</td></tr><tr><td>proprietor</td><td>Maine</td><td>United States</td><td>1</td></tr><tr><td>brewpub</td><td>Wyoming</td><td>United States</td><td>16</td></tr><tr><td>regional</td><td>Ohio</td><td>United States</td><td>9</td></tr><tr><td>brewpub</td><td>New Jersey</td><td>United States</td><td>16</td></tr><tr><td>brewpub</td><td>Alaska</td><td>United States</td><td>14</td></tr><tr><td>large</td><td>Ohio</td><td>United States</td><td>2</td></tr><tr><td>brewpub</td><td>District of Columbia</td><td>United States</td><td>6</td></tr><tr><td>planning</td><td>Tennessee</td><td>United States</td><td>20</td></tr><tr><td>planning</td><td>Kentucky</td><td>United States</td><td>3</td></tr><tr><td>regional</td><td>New York</td><td>United States</td><td>9</td></tr><tr><td>planning</td><td>New Hampshire</td><td>United States</td><td>7</td></tr><tr><td>regional</td><td>Galway</td><td>Ireland</td><td>2</td></tr><tr><td>planning</td><td>Indiana</td><td>United States</td><td>20</td></tr><tr><td>planning</td><td>Mississippi</td><td>United States</td><td>1</td></tr><tr><td>brewpub</td><td>Maine</td><td>United States</td><td>31</td></tr><tr><td>brewpub</td><td>Montana</td><td>United States</td><td>17</td></tr><tr><td>micro</td><td>Waterford</td><td>Ireland</td><td>2</td></tr><tr><td>brewpub</td><td>Idaho</td><td>United States</td><td>23</td></tr><tr><td>micro</td><td>Michigan</td><td>United States</td><td>143</td></tr><tr><td>brewpub</td><td>Missouri</td><td>United States</td><td>46</td></tr><tr><td>contract</td><td>Virginia</td><td>United States</td><td>5</td></tr><tr><td>taproom</td><td>Wyoming</td><td>United States</td><td>5</td></tr><tr><td>regional</td><td>Maryland</td><td>United States</td><td>4</td></tr><tr><td>contract</td><td>Texas</td><td>United States</td><td>6</td></tr><tr><td>micro</td><td>Mississippi</td><td>United States</td><td>13</td></tr><tr><td>contract</td><td>Georgia</td><td>United States</td><td>2</td></tr><tr><td>micro</td><td>Portalegre</td><td>Portugal</td><td>1</td></tr><tr><td>brewpub</td><td>Busan</td><td>South Korea</td><td>8</td></tr><tr><td>large</td><td>Steiermark</td><td>Austria</td><td>4</td></tr><tr><td>brewpub</td><td>Wisconsin</td><td>United States</td><td>76</td></tr><tr><td>micro</td><td>Wicklow</td><td>Ireland</td><td>2</td></tr><tr><td>brewpub</td><td>Steiermark</td><td>Austria</td><td>1</td></tr><tr><td>micro</td><td>Cork</td><td>Ireland</td><td>5</td></tr><tr><td>closed</td><td>South Dakota</td><td>United States</td><td>2</td></tr><tr><td>brewpub</td><td>Mississippi</td><td>United States</td><td>2</td></tr><tr><td>large</td><td>Texas</td><td>United States</td><td>4</td></tr><tr><td>large</td><td>Illinois</td><td>United States</td><td>4</td></tr><tr><td>planning</td><td>Pennsylvania</td><td>United States</td><td>36</td></tr><tr><td>taproom</td><td>East Sussex</td><td>England</td><td>4</td></tr><tr><td>micro</td><td>Wisconsin</td><td>United States</td><td>99</td></tr><tr><td>micro</td><td>Blekinge</td><td>Sweden</td><td>6</td></tr><tr><td>micro</td><td>Maryland</td><td>United States</td><td>52</td></tr><tr><td>proprietor</td><td>Pennsylvania</td><td>United States</td><td>2</td></tr><tr><td>brewpub</td><td>Rhode Island</td><td>United States</td><td>9</td></tr><tr><td>micro</td><td>Arkansas</td><td>United States</td><td>22</td></tr><tr><td>micro</td><td>Georgia</td><td>United States</td><td>47</td></tr><tr><td>large</td><td>Colorado</td><td>United States</td><td>7</td></tr><tr><td>micro</td><td>Connecticut</td><td>United States</td><td>49</td></tr><tr><td>proprietor</td><td>Colorado</td><td>United States</td><td>4</td></tr><tr><td>proprietor</td><td>Kansas</td><td>United States</td><td>1</td></tr><tr><td>micro</td><td>New Hampshire</td><td>United States</td><td>46</td></tr><tr><td>micro</td><td>California</td><td>United States</td><td>465</td></tr><tr><td>taproom</td><td>Pennsylvania</td><td>United States</td><td>1</td></tr><tr><td>closed</td><td>Alaska</td><td>United States</td><td>4</td></tr><tr><td>contract</td><td>Indiana</td><td>United States</td><td>2</td></tr><tr><td>planning</td><td>Maine</td><td>United States</td><td>7</td></tr><tr><td>micro</td><td>West Virginia</td><td>United States</td><td>21</td></tr><tr><td>contract</td><td>Colorado</td><td>United States</td><td>9</td></tr><tr><td>planning</td><td>Georgia</td><td>United States</td><td>19</td></tr><tr><td>brewpub</td><td>West Virginia</td><td>United States</td><td>13</td></tr><tr><td>brewpub</td><td>Jejudo</td><td>South Korea</td><td>3</td></tr><tr><td>micro</td><td>Maine</td><td>United States</td><td>70</td></tr><tr><td>micro</td><td>Laois</td><td>Ireland</td><td>2</td></tr><tr><td>micro</td><td>Nebraska</td><td>United States</td><td>35</td></tr><tr><td>large</td><td>Nieder�sterreich</td><td>Austria</td><td>2</td></tr><tr><td>proprietor</td><td>North Carolina</td><td>United States</td><td>3</td></tr><tr><td>brewpub</td><td>South Dakota</td><td>United States</td><td>15</td></tr><tr><td>regional</td><td>Washington</td><td>United States</td><td>7</td></tr><tr><td>closed</td><td>Oklahoma</td><td>United States</td><td>1</td></tr><tr><td>closed</td><td>Connecticut</td><td>United States</td><td>6</td></tr><tr><td>brewpub</td><td>Indiana</td><td>United States</td><td>76</td></tr><tr><td>brewpub</td><td>dolnośląskie</td><td>Poland</td><td>11</td></tr><tr><td>brewpub</td><td>Cork</td><td>Ireland</td><td>3</td></tr><tr><td>brewpub</td><td>Alabama</td><td>United States</td><td>4</td></tr><tr><td>brewpub</td><td>Minnesota</td><td>United States</td><td>44</td></tr><tr><td>regional</td><td>Maine</td><td>United States</td><td>3</td></tr><tr><td>regional</td><td>Delaware</td><td>United States</td><td>1</td></tr><tr><td>taproom</td><td>Washington</td><td>United States</td><td>3</td></tr><tr><td>brewpub</td><td>Virginia</td><td>United States</td><td>55</td></tr><tr><td>planning</td><td>Oregon</td><td>United States</td><td>12</td></tr><tr><td>closed</td><td>West Virginia</td><td>United States</td><td>3</td></tr><tr><td>large</td><td>Virginia</td><td>United States</td><td>5</td></tr><tr><td>planning</td><td>California</td><td>United States</td><td>64</td></tr><tr><td>contract</td><td>Illinois</td><td>United States</td><td>11</td></tr><tr><td>taproom</td><td>West Sussex</td><td>England</td><td>7</td></tr><tr><td>contract</td><td>California</td><td>United States</td><td>27</td></tr><tr><td>nano</td><td>Washington</td><td>United States</td><td>6</td></tr><tr><td>contract</td><td>North Carolina</td><td>United States</td><td>5</td></tr><tr><td>large</td><td>Georgia</td><td>United States</td><td>3</td></tr><tr><td>planning</td><td>Oklahoma</td><td>United States</td><td>4</td></tr><tr><td>micro</td><td>Montana</td><td>United States</td><td>61</td></tr><tr><td>contract</td><td>Florida</td><td>United States</td><td>6</td></tr><tr><td>micro</td><td>New York</td><td>United States</td><td>226</td></tr><tr><td>brewpub</td><td>Vermont</td><td>United States</td><td>16</td></tr><tr><td>planning</td><td>Ohio</td><td>United States</td><td>26</td></tr><tr><td>micro</td><td>Kerry</td><td>Ireland</td><td>2</td></tr><tr><td>micro</td><td>Chungcheongnamdo</td><td>South Korea</td><td>2</td></tr><tr><td>micro</td><td>Carlow</td><td>Ireland</td><td>1</td></tr><tr><td>micro</td><td>West Dunbartonshire</td><td>Scotland</td><td>4</td></tr><tr><td>micro</td><td>Missouri</td><td>United States</td><td>66</td></tr><tr><td>micro</td><td>Minnesota</td><td>United States</td><td>111</td></tr><tr><td>large</td><td>New Jersey</td><td>United States</td><td>1</td></tr><tr><td>micro</td><td>Rhode Island</td><td>United States</td><td>20</td></tr><tr><td>micro</td><td>Longford</td><td>Ireland</td><td>1</td></tr><tr><td>micro</td><td>Middle</td><td>Isle of Man</td><td>2</td></tr><tr><td>bar</td><td>Berlin</td><td>Germany</td><td>3</td></tr><tr><td>regional</td><td>Virginia</td><td>United States</td><td>3</td></tr><tr><td>brewpub</td><td>Illinois</td><td>United States</td><td>88</td></tr><tr><td>regional</td><td>Florida</td><td>United States</td><td>5</td></tr><tr><td>brewpub</td><td>Michigan</td><td>United States</td><td>199</td></tr><tr><td>closed</td><td>Utah</td><td>United States</td><td>4</td></tr><tr><td>regional</td><td>Wisconsin</td><td>United States</td><td>9</td></tr><tr><td>closed</td><td>Missouri</td><td>United States</td><td>13</td></tr><tr><td>regional</td><td>Kilkenny</td><td>Ireland</td><td>2</td></tr><tr><td>closed</td><td>Texas</td><td>United States</td><td>2</td></tr><tr><td>micro</td><td>North Carolina</td><td>United States</td><td>180</td></tr><tr><td>micro</td><td>Ohio</td><td>United States</td><td>163</td></tr><tr><td>micro</td><td>Louisiana</td><td>United States</td><td>27</td></tr><tr><td>proprietor</td><td>New York</td><td>United States</td><td>10</td></tr><tr><td>proprietor</td><td>Oregon</td><td>United States</td><td>2</td></tr><tr><td>contract</td><td>Wisconsin</td><td>United States</td><td>14</td></tr><tr><td>regional</td><td>District of Columbia</td><td>United States</td><td>1</td></tr><tr><td>brewpub</td><td>Nevada</td><td>United States</td><td>20</td></tr><tr><td>micro</td><td>dolnośląskie</td><td>Poland</td><td>20</td></tr><tr><td>proprietor</td><td>Rhode Island</td><td>United States</td><td>1</td></tr><tr><td>micro</td><td>Virginia</td><td>United States</td><td>152</td></tr><tr><td>regional</td><td>Massachusetts</td><td>United States</td><td>9</td></tr><tr><td>closed</td><td>Washington</td><td>United States</td><td>74</td></tr><tr><td>regional</td><td>Utah</td><td>United States</td><td>2</td></tr><tr><td>closed</td><td>South Carolina</td><td>United States</td><td>1</td></tr><tr><td>contract</td><td>Mississippi</td><td>United States</td><td>1</td></tr><tr><td>regional</td><td>Illinois</td><td>United States</td><td>3</td></tr><tr><td>brewpub</td><td>Colorado</td><td>United States</td><td>141</td></tr><tr><td>micro</td><td>Florida</td><td>United States</td><td>190</td></tr><tr><td>micro</td><td>Iowa</td><td>United States</td><td>56</td></tr><tr><td>brewpub</td><td>Gyeongsangnamdo</td><td>South Korea</td><td>3</td></tr><tr><td>planning</td><td>Alaska</td><td>United States</td><td>2</td></tr><tr><td>brewpub</td><td>Connecticut</td><td>United States</td><td>11</td></tr><tr><td>contract</td><td>Oklahoma</td><td>United States</td><td>4</td></tr><tr><td>proprietor</td><td>Minnesota</td><td>United States</td><td>2</td></tr><tr><td>brewpub</td><td>California</td><td>United States</td><td>253</td></tr><tr><td>proprietor</td><td>Ohio</td><td>United States</td><td>1</td></tr><tr><td>regional</td><td>Missouri</td><td>United States</td><td>8</td></tr><tr><td>micro</td><td>Monaghan</td><td>Ireland</td><td>1</td></tr><tr><td>brewpub</td><td>Delaware</td><td>United States</td><td>14</td></tr><tr><td>proprietor</td><td>Florida</td><td>United States</td><td>4</td></tr><tr><td>contract</td><td>Ohio</td><td>United States</td><td>7</td></tr><tr><td>brewpub</td><td>Texas</td><td>United States</td><td>77</td></tr><tr><td>micro</td><td>Hawaii</td><td>United States</td><td>7</td></tr><tr><td>regional</td><td>Colorado</td><td>United States</td><td>11</td></tr><tr><td>regional</td><td>Montana</td><td>United States</td><td>2</td></tr><tr><td>brewpub</td><td>Florida</td><td>United States</td><td>65</td></tr><tr><td>bar</td><td>Singapore</td><td>Singapore</td><td>28</td></tr><tr><td>closed</td><td>Nebraska</td><td>United States</td><td>2</td></tr><tr><td>nano</td><td>North Dakota</td><td>United States</td><td>2</td></tr><tr><td>brewpub</td><td>Tennessee</td><td>United States</td><td>26</td></tr><tr><td>micro</td><td>Offaly</td><td>Ireland</td><td>2</td></tr><tr><td>micro</td><td>West Sussex</td><td>England</td><td>19</td></tr><tr><td>brewpub</td><td>Hawaii</td><td>United States</td><td>12</td></tr><tr><td>closed</td><td>Wyoming</td><td>United States</td><td>6</td></tr><tr><td>contract</td><td>Alaska</td><td>United States</td><td>1</td></tr><tr><td>planning</td><td>Minnesota</td><td>United States</td><td>13</td></tr><tr><td>closed</td><td>Colorado</td><td>United States</td><td>9</td></tr><tr><td>planning</td><td>Connecticut</td><td>United States</td><td>21</td></tr><tr><td>contract</td><td>New Mexico</td><td>United States</td><td>1</td></tr><tr><td>proprietor</td><td>Texas</td><td>United States</td><td>1</td></tr><tr><td>large</td><td>Florida</td><td>United States</td><td>4</td></tr><tr><td>regional</td><td>dolnośląskie</td><td>Poland</td><td>3</td></tr><tr><td>brewpub</td><td>New Mexico</td><td>United States</td><td>44</td></tr><tr><td>brewpub</td><td>New York</td><td>United States</td><td>111</td></tr><tr><td>planning</td><td>Virginia</td><td>United States</td><td>34</td></tr><tr><td>brewpub</td><td>Nebraska</td><td>United States</td><td>21</td></tr><tr><td>brewpub</td><td>Iowa</td><td>United States</td><td>32</td></tr><tr><td>regional</td><td>New Hampshire</td><td>United States</td><td>2</td></tr><tr><td>micro</td><td>Massachusetts</td><td>United States</td><td>93</td></tr><tr><td>micro</td><td>Dublin</td><td>Ireland</td><td>10</td></tr><tr><td>micro</td><td>Kansas</td><td>United States</td><td>18</td></tr><tr><td>planning</td><td>Massachusetts</td><td>United States</td><td>17</td></tr><tr><td>micro</td><td>Sligo</td><td>Ireland</td><td>2</td></tr><tr><td>proprietor</td><td>Washington</td><td>United States</td><td>2</td></tr><tr><td>regional</td><td>South Carolina</td><td>United States</td><td>2</td></tr><tr><td>micro</td><td>Alabama</td><td>United States</td><td>32</td></tr><tr><td>planning</td><td>North Carolina</td><td>United States</td><td>29</td></tr><tr><td>large</td><td>Wisconsin</td><td>United States</td><td>5</td></tr><tr><td>large</td><td>Maryland</td><td>United States</td><td>1</td></tr><tr><td>planning</td><td>Kansas</td><td>United States</td><td>7</td></tr><tr><td>regional</td><td>New Jersey</td><td>United States</td><td>1</td></tr><tr><td>proprietor</td><td>Indiana</td><td>United States</td><td>1</td></tr><tr><td>large</td><td>K�rnten</td><td>Austria</td><td>2</td></tr><tr><td>micro</td><td>New Mexico</td><td>United States</td><td>30</td></tr><tr><td>brewpub</td><td>West Sussex</td><td>England</td><td>5</td></tr><tr><td>brewpub</td><td>Oregon</td><td>United States</td><td>106</td></tr><tr><td>regional</td><td>Kansas</td><td>United States</td><td>1</td></tr><tr><td>planning</td><td>Vermont</td><td>United States</td><td>2</td></tr><tr><td>contract</td><td>District of Columbia</td><td>United States</td><td>2</td></tr><tr><td>micro</td><td>Oregon</td><td>United States</td><td>142</td></tr><tr><td>regional</td><td>Indiana</td><td>United States</td><td>3</td></tr><tr><td>brewpub</td><td>Maryland</td><td>United States</td><td>26</td></tr><tr><td>location</td><td>Washington</td><td>United States</td><td>1</td></tr><tr><td>regional</td><td>Hawaii</td><td>United States</td><td>1</td></tr><tr><td>planning</td><td>New Mexico</td><td>United States</td><td>5</td></tr><tr><td>micro</td><td>Delaware</td><td>United States</td><td>10</td></tr><tr><td>closed</td><td>Oregon</td><td>United States</td><td>11</td></tr><tr><td>brewpub</td><td>Clare</td><td>Ireland</td><td>1</td></tr><tr><td>brewpub</td><td>Georgia</td><td>United States</td><td>25</td></tr><tr><td>large</td><td>Cork</td><td>Ireland</td><td>2</td></tr><tr><td>micro</td><td>East Dunbartonshire</td><td>Scotland</td><td>1</td></tr><tr><td>planning</td><td>Wisconsin</td><td>United States</td><td>9</td></tr><tr><td>brewpub</td><td>Kerry</td><td>Ireland</td><td>1</td></tr><tr><td>regional</td><td>Michigan</td><td>United States</td><td>9</td></tr><tr><td>planning</td><td>Delaware</td><td>United States</td><td>2</td></tr><tr><td>large</td><td>Oregon</td><td>United States</td><td>6</td></tr><tr><td>brewpub</td><td>North Dakota</td><td>United States</td><td>8</td></tr><tr><td>closed</td><td>Idaho</td><td>United States</td><td>5</td></tr><tr><td>brewpub</td><td>Incheon</td><td>South Korea</td><td>2</td></tr><tr><td>micro</td><td>Tennessee</td><td>United States</td><td>59</td></tr><tr><td>closed</td><td>North Dakota</td><td>United States</td><td>3</td></tr><tr><td>regional</td><td>Tennessee</td><td>United States</td><td>2</td></tr><tr><td>brewpub</td><td>Coimbra</td><td>Portugal</td><td>1</td></tr><tr><td>regional</td><td>North Carolina</td><td>United States</td><td>13</td></tr><tr><td>brewpub</td><td>Jeollanamdo</td><td>South Korea</td><td>1</td></tr><tr><td>brewpub</td><td>Arizona</td><td>United States</td><td>46</td></tr><tr><td>large</td><td>North Carolina</td><td>United States</td><td>4</td></tr><tr><td>brewpub</td><td>Washington</td><td>United States</td><td>113</td></tr><tr><td>brewpub</td><td>New Hampshire</td><td>United States</td><td>22</td></tr><tr><td>micro</td><td>New Jersey</td><td>United States</td><td>79</td></tr><tr><td>micro</td><td>Idaho</td><td>United States</td><td>36</td></tr><tr><td>planning</td><td>Maryland</td><td>United States</td><td>18</td></tr><tr><td>contract</td><td>Connecticut</td><td>United States</td><td>5</td></tr><tr><td>micro</td><td>Washington</td><td>United States</td><td>268</td></tr><tr><td>planning</td><td>South Dakota</td><td>United States</td><td>2</td></tr><tr><td>brewpub</td><td>Westmeath</td><td>Ireland</td><td>1</td></tr><tr><td>contract</td><td>Washington</td><td>United States</td><td>4</td></tr><tr><td>brewpub</td><td>Louisiana</td><td>United States</td><td>5</td></tr><tr><td>large</td><td>California</td><td>United States</td><td>15</td></tr><tr><td>proprietor</td><td>Tennessee</td><td>United States</td><td>2</td></tr><tr><td>brewpub</td><td>Gyeonggido</td><td>South Korea</td><td>8</td></tr><tr><td>micro</td><td>Pennsylvania</td><td>United States</td><td>129</td></tr><tr><td>regional</td><td>Vermont</td><td>United States</td><td>7</td></tr><tr><td>brewpub</td><td>Oklahoma</td><td>United States</td><td>5</td></tr><tr><td>closed</td><td>Louisiana</td><td>United States</td><td>1</td></tr><tr><td>contract</td><td>Michigan</td><td>United States</td><td>3</td></tr><tr><td>brewpub</td><td>Dublin</td><td>Ireland</td><td>3</td></tr><tr><td>bar</td><td>Nevada</td><td>United States</td><td>1</td></tr><tr><td>contract</td><td>Tennessee</td><td>United States</td><td>1</td></tr><tr><td>regional</td><td>Connecticut</td><td>United States</td><td>2</td></tr><tr><td>micro</td><td>Galway</td><td>Ireland</td><td>1</td></tr><tr><td>brewpub</td><td>Chungcheongbukdo</td><td>South Korea</td><td>1</td></tr><tr><td>contract</td><td>Idaho</td><td>United States</td><td>1</td></tr><tr><td>proprietor</td><td>Maryland</td><td>United States</td><td>2</td></tr><tr><td>planning</td><td>Utah</td><td>United States</td><td>3</td></tr><tr><td>large</td><td>Idaho</td><td>United States</td><td>1</td></tr><tr><td>brewpub</td><td>Aveiro</td><td>Portugal</td><td>1</td></tr><tr><td>micro</td><td>Meath</td><td>Ireland</td><td>1</td></tr><tr><td>regional</td><td>Alaska</td><td>United States</td><td>1</td></tr><tr><td>brewpub</td><td>Daejeon</td><td>South Korea</td><td>1</td></tr><tr><td>proprietor</td><td>West Virginia</td><td>United States</td><td>1</td></tr><tr><td>contract</td><td>Louisiana</td><td>United States</td><td>2</td></tr><tr><td>regional</td><td>Rhode Island</td><td>United States</td><td>1</td></tr><tr><td>proprietor</td><td>South Dakota</td><td>United States</td><td>1</td></tr><tr><td>large</td><td>East Sussex</td><td>England</td><td>1</td></tr><tr><td>micro</td><td>Louth</td><td>Ireland</td><td>1</td></tr><tr><td>micro</td><td>Donegal</td><td>Ireland</td><td>3</td></tr><tr><td>large</td><td>Oberösterreich</td><td>Austria</td><td>1</td></tr><tr><td>brewpub</td><td>Leiria</td><td>Portugal</td><td>1</td></tr><tr><td>micro</td><td>Wexford</td><td>Ireland</td><td>2</td></tr><tr><td>planning</td><td>Nevada</td><td>United States</td><td>5</td></tr><tr><td>nano</td><td>Wisconsin</td><td>United States</td><td>1</td></tr><tr><td>contract</td><td>Montana</td><td>United States</td><td>2</td></tr><tr><td>micro</td><td>Mayo</td><td>Ireland</td><td>2</td></tr><tr><td>planning</td><td>West Virginia</td><td>United States</td><td>1</td></tr><tr><td>regional</td><td>Dublin</td><td>Ireland</td><td>2</td></tr><tr><td>regional</td><td>Kentucky</td><td>United States</td><td>1</td></tr><tr><td>large</td><td>Delaware</td><td>United States</td><td>1</td></tr><tr><td>regional</td><td>Louisiana</td><td>United States</td><td>1</td></tr><tr><td>brewpub</td><td>Porto</td><td>Portugal</td><td>1</td></tr><tr><td>nano</td><td>Oberösterreich</td><td>Austria</td><td>1</td></tr><tr><td>large</td><td>New Hampshire</td><td>United States</td><td>1</td></tr><tr><td>regional</td><td>Cork</td><td>Ireland</td><td>1</td></tr><tr><td>regional</td><td>Donegal</td><td>Ireland</td><td>1</td></tr><tr><td>closed</td><td>New Hampshire</td><td>United States</td><td>1</td></tr><tr><td>contract</td><td>Oregon</td><td>United States</td><td>3</td></tr><tr><td>closed</td><td>Ohio</td><td>United States</td><td>1</td></tr><tr><td>micro</td><td>Gyeonggido</td><td>South Korea</td><td>1</td></tr><tr><td>micro</td><td>Bouche du Rhône</td><td>France</td><td>3</td></tr><tr><td>micro</td><td>Roscommon</td><td>Ireland</td><td>1</td></tr><tr><td>closed</td><td>Bute</td><td>Scotland</td><td>1</td></tr><tr><td>bar</td><td>Steiermark</td><td>Austria</td><td>2</td></tr><tr><td>micro</td><td>Kildare</td><td>Ireland</td><td>3</td></tr><tr><td>proprietor</td><td>Idaho</td><td>United States</td><td>1</td></tr><tr><td>proprietor</td><td>New Mexico</td><td>United States</td><td>1</td></tr><tr><td>large</td><td>Dublin</td><td>Ireland</td><td>1</td></tr><tr><td>large</td><td>Berlin</td><td>Germany</td><td>1</td></tr><tr><td>micro</td><td>Argyll</td><td>Scotland</td><td>4</td></tr><tr><td>micro</td><td>MIssouri</td><td>United States</td><td>1</td></tr><tr><td>micro</td><td>Busan</td><td>South Korea</td><td>1</td></tr><tr><td>brewpub</td><td>Deagu</td><td>South Korea</td><td>1</td></tr><tr><td>micro</td><td>Kilkenny</td><td>Ireland</td><td>1</td></tr><tr><td>nano</td><td>Tennessee</td><td>United States</td><td>1</td></tr><tr><td>regional</td><td>Wicklow</td><td>Ireland</td><td>1</td></tr><tr><td>micro</td><td>Limerick</td><td>Ireland</td><td>2</td></tr><tr><td>brewpub</td><td>Gyeongsangbukdo</td><td>South Korea</td><td>2</td></tr><tr><td>contract</td><td>Missouri</td><td>United States</td><td>1</td></tr><tr><td>bar</td><td>North Dakota</td><td>United States</td><td>1</td></tr><tr><td>micro</td><td>Gyeongsangbukdo</td><td>South Korea</td><td>1</td></tr><tr><td>closed</td><td>Iowa</td><td>United States</td><td>2</td></tr><tr><td>large</td><td>Singapore</td><td>Singapore</td><td>1</td></tr><tr><td>contract</td><td>Arizona</td><td>United States</td><td>4</td></tr><tr><td>contract</td><td>Iowa</td><td>United States</td><td>1</td></tr><tr><td>contract</td><td>Maine</td><td>United States</td><td>2</td></tr><tr><td>micro</td><td>Faro</td><td>Portugal</td><td>1</td></tr><tr><td>contract</td><td>South Carolina</td><td>United States</td><td>1</td></tr><tr><td>contract</td><td>South Dakota</td><td>United States</td><td>1</td></tr></tbody></table></div>"
      ]
     },
     "metadata": {
      "application/vnd.databricks.v1+output": {
       "addedWidgets": {},
       "aggData": [],
       "aggError": "",
       "aggOverflow": false,
       "aggSchema": [],
       "aggSeriesLimitReached": false,
       "aggType": "",
       "arguments": {},
       "columnCustomDisplayInfos": {},
       "data": [
        [
         "contract",
         "New York",
         "United States",
         22
        ],
        [
         "planning",
         "Arizona",
         "United States",
         13
        ],
        [
         "micro",
         "Kentucky",
         "United States",
         41
        ],
        [
         "micro",
         "Oklahoma",
         "United States",
         30
        ],
        [
         "brewpub",
         "Gwangju",
         "South Korea",
         1
        ],
        [
         "proprietor",
         "Georgia",
         "United States",
         1
        ],
        [
         "brewpub",
         "Seoul",
         "South Korea",
         14
        ],
        [
         "regional",
         "Arizona",
         "United States",
         1
        ],
        [
         "contract",
         "Arkansas",
         "United States",
         1
        ],
        [
         "large",
         "Washington",
         "United States",
         3
        ],
        [
         "brewpub",
         "Jeollabukdo",
         "South Korea",
         3
        ],
        [
         "planning",
         "District of Columbia",
         "United States",
         2
        ],
        [
         "brewpub",
         "Kentucky",
         "United States",
         12
        ],
        [
         "planning",
         "Michigan",
         "United States",
         21
        ],
        [
         "large",
         "New York",
         "United States",
         4
        ],
        [
         "brewpub",
         "Massachusetts",
         "United States",
         34
        ],
        [
         "micro",
         "Porto",
         "Portugal",
         1
        ],
        [
         "micro",
         "East Sussex",
         "England",
         21
        ],
        [
         "planning",
         "Texas",
         "United States",
         56
        ],
        [
         "contract",
         "Minnesota",
         "United States",
         5
        ],
        [
         "closed",
         "Hawaii",
         "United States",
         3
        ],
        [
         "micro",
         "District of Columbia",
         "United States",
         5
        ],
        [
         "micro",
         "Utah",
         "United States",
         21
        ],
        [
         "planning",
         "Louisiana",
         "United States",
         8
        ],
        [
         "contract",
         "Pennsylvania",
         "United States",
         6
        ],
        [
         "proprietor",
         "California",
         "United States",
         13
        ],
        [
         "micro",
         "Illinois",
         "United States",
         123
        ],
        [
         "large",
         "Missouri",
         "United States",
         1
        ],
        [
         "brewpub",
         "South Carolina",
         "United States",
         29
        ],
        [
         "contract",
         "Kentucky",
         "United States",
         1
        ],
        [
         "regional",
         "California",
         "United States",
         29
        ],
        [
         "planning",
         "New Jersey",
         "United States",
         14
        ],
        [
         "proprietor",
         "Wisconsin",
         "United States",
         2
        ],
        [
         "proprietor",
         "Illinois",
         "United States",
         5
        ],
        [
         "brewpub",
         "Beja",
         "Portugal",
         1
        ],
        [
         "planning",
         "Washington",
         "United States",
         5
        ],
        [
         "planning",
         "Illinois",
         "United States",
         23
        ],
        [
         "nano",
         "West Virginia",
         "United States",
         1
        ],
        [
         "regional",
         "Oregon",
         "United States",
         13
        ],
        [
         "brewpub",
         "Ohio",
         "United States",
         94
        ],
        [
         "micro",
         "Nevada",
         "United States",
         22
        ],
        [
         "closed",
         "Wisconsin",
         "United States",
         10
        ],
        [
         "micro",
         "North Dakota",
         "United States",
         12
        ],
        [
         "planning",
         "Arkansas",
         "United States",
         4
        ],
        [
         "brewpub",
         "Gangwondo",
         "South Korea",
         7
        ],
        [
         "contract",
         "New Hampshire",
         "United States",
         1
        ],
        [
         "micro",
         "Vermont",
         "United States",
         34
        ],
        [
         "regional",
         "Texas",
         "United States",
         10
        ],
        [
         "planning",
         "New York",
         "United States",
         37
        ],
        [
         "brewpub",
         "Pennsylvania",
         "United States",
         158
        ],
        [
         "planning",
         "Florida",
         "United States",
         38
        ],
        [
         "micro",
         "Aveiro",
         "Portugal",
         1
        ],
        [
         "brewpub",
         "Kansas",
         "United States",
         20
        ],
        [
         "large",
         "Arizona",
         "United States",
         2
        ],
        [
         "planning",
         "Alabama",
         "United States",
         8
        ],
        [
         "planning",
         "Montana",
         "United States",
         10
        ],
        [
         "proprietor",
         "Missouri",
         "United States",
         3
        ],
        [
         "contract",
         "Nevada",
         "United States",
         3
        ],
        [
         "micro",
         "Wyoming",
         "United States",
         24
        ],
        [
         "planning",
         "South Carolina",
         "United States",
         8
        ],
        [
         "regional",
         "New Mexico",
         "United States",
         2
        ],
        [
         "brewpub",
         "Utah",
         "United States",
         15
        ],
        [
         "micro",
         "Halland",
         "Sweden",
         4
        ],
        [
         "contract",
         "New Jersey",
         "United States",
         4
        ],
        [
         "micro",
         "South Carolina",
         "United States",
         38
        ],
        [
         "brewpub",
         "Arkansas",
         "United States",
         18
        ],
        [
         "proprietor",
         "Massachusetts",
         "United States",
         2
        ],
        [
         "micro",
         "Indiana",
         "United States",
         60
        ],
        [
         "regional",
         "Wyoming",
         "United States",
         1
        ],
        [
         "planning",
         "Colorado",
         "United States",
         39
        ],
        [
         "brewpub",
         "North Carolina",
         "United States",
         73
        ],
        [
         "brewpub",
         "Chungcheongnamdo",
         "South Korea",
         1
        ],
        [
         "micro",
         "Colorado",
         "United States",
         228
        ],
        [
         "micro",
         "Texas",
         "United States",
         196
        ],
        [
         "micro",
         "Alaska",
         "United States",
         29
        ],
        [
         "closed",
         "California",
         "United States",
         51
        ],
        [
         "regional",
         "Minnesota",
         "United States",
         8
        ],
        [
         "nano",
         "K�rnten",
         "Austria",
         1
        ],
        [
         "regional",
         "Georgia",
         "United States",
         3
        ],
        [
         "beergarden",
         "Berlin",
         "Germany",
         3
        ],
        [
         "contract",
         "Massachusetts",
         "United States",
         8
        ],
        [
         "contract",
         "Alabama",
         "United States",
         1
        ],
        [
         "regional",
         "Pennsylvania",
         "United States",
         13
        ],
        [
         "brewpub",
         "Singapore",
         "Singapore",
         4
        ],
        [
         "brewpub",
         "Lisboa",
         "Portugal",
         2
        ],
        [
         "contract",
         "Maryland",
         "United States",
         6
        ],
        [
         "brewpub",
         "East Sussex",
         "England",
         5
        ],
        [
         "micro",
         "Tipperary",
         "Ireland",
         2
        ],
        [
         "micro",
         "South Dakota",
         "United States",
         24
        ],
        [
         "micro",
         "Lisboa",
         "Portugal",
         3
        ],
        [
         "micro",
         "Arizona",
         "United States",
         58
        ],
        [
         "planning",
         "Nebraska",
         "United States",
         4
        ],
        [
         "planning",
         "Missouri",
         "United States",
         3
        ],
        [
         "proprietor",
         "Maine",
         "United States",
         1
        ],
        [
         "brewpub",
         "Wyoming",
         "United States",
         16
        ],
        [
         "regional",
         "Ohio",
         "United States",
         9
        ],
        [
         "brewpub",
         "New Jersey",
         "United States",
         16
        ],
        [
         "brewpub",
         "Alaska",
         "United States",
         14
        ],
        [
         "large",
         "Ohio",
         "United States",
         2
        ],
        [
         "brewpub",
         "District of Columbia",
         "United States",
         6
        ],
        [
         "planning",
         "Tennessee",
         "United States",
         20
        ],
        [
         "planning",
         "Kentucky",
         "United States",
         3
        ],
        [
         "regional",
         "New York",
         "United States",
         9
        ],
        [
         "planning",
         "New Hampshire",
         "United States",
         7
        ],
        [
         "regional",
         "Galway",
         "Ireland",
         2
        ],
        [
         "planning",
         "Indiana",
         "United States",
         20
        ],
        [
         "planning",
         "Mississippi",
         "United States",
         1
        ],
        [
         "brewpub",
         "Maine",
         "United States",
         31
        ],
        [
         "brewpub",
         "Montana",
         "United States",
         17
        ],
        [
         "micro",
         "Waterford",
         "Ireland",
         2
        ],
        [
         "brewpub",
         "Idaho",
         "United States",
         23
        ],
        [
         "micro",
         "Michigan",
         "United States",
         143
        ],
        [
         "brewpub",
         "Missouri",
         "United States",
         46
        ],
        [
         "contract",
         "Virginia",
         "United States",
         5
        ],
        [
         "taproom",
         "Wyoming",
         "United States",
         5
        ],
        [
         "regional",
         "Maryland",
         "United States",
         4
        ],
        [
         "contract",
         "Texas",
         "United States",
         6
        ],
        [
         "micro",
         "Mississippi",
         "United States",
         13
        ],
        [
         "contract",
         "Georgia",
         "United States",
         2
        ],
        [
         "micro",
         "Portalegre",
         "Portugal",
         1
        ],
        [
         "brewpub",
         "Busan",
         "South Korea",
         8
        ],
        [
         "large",
         "Steiermark",
         "Austria",
         4
        ],
        [
         "brewpub",
         "Wisconsin",
         "United States",
         76
        ],
        [
         "micro",
         "Wicklow",
         "Ireland",
         2
        ],
        [
         "brewpub",
         "Steiermark",
         "Austria",
         1
        ],
        [
         "micro",
         "Cork",
         "Ireland",
         5
        ],
        [
         "closed",
         "South Dakota",
         "United States",
         2
        ],
        [
         "brewpub",
         "Mississippi",
         "United States",
         2
        ],
        [
         "large",
         "Texas",
         "United States",
         4
        ],
        [
         "large",
         "Illinois",
         "United States",
         4
        ],
        [
         "planning",
         "Pennsylvania",
         "United States",
         36
        ],
        [
         "taproom",
         "East Sussex",
         "England",
         4
        ],
        [
         "micro",
         "Wisconsin",
         "United States",
         99
        ],
        [
         "micro",
         "Blekinge",
         "Sweden",
         6
        ],
        [
         "micro",
         "Maryland",
         "United States",
         52
        ],
        [
         "proprietor",
         "Pennsylvania",
         "United States",
         2
        ],
        [
         "brewpub",
         "Rhode Island",
         "United States",
         9
        ],
        [
         "micro",
         "Arkansas",
         "United States",
         22
        ],
        [
         "micro",
         "Georgia",
         "United States",
         47
        ],
        [
         "large",
         "Colorado",
         "United States",
         7
        ],
        [
         "micro",
         "Connecticut",
         "United States",
         49
        ],
        [
         "proprietor",
         "Colorado",
         "United States",
         4
        ],
        [
         "proprietor",
         "Kansas",
         "United States",
         1
        ],
        [
         "micro",
         "New Hampshire",
         "United States",
         46
        ],
        [
         "micro",
         "California",
         "United States",
         465
        ],
        [
         "taproom",
         "Pennsylvania",
         "United States",
         1
        ],
        [
         "closed",
         "Alaska",
         "United States",
         4
        ],
        [
         "contract",
         "Indiana",
         "United States",
         2
        ],
        [
         "planning",
         "Maine",
         "United States",
         7
        ],
        [
         "micro",
         "West Virginia",
         "United States",
         21
        ],
        [
         "contract",
         "Colorado",
         "United States",
         9
        ],
        [
         "planning",
         "Georgia",
         "United States",
         19
        ],
        [
         "brewpub",
         "West Virginia",
         "United States",
         13
        ],
        [
         "brewpub",
         "Jejudo",
         "South Korea",
         3
        ],
        [
         "micro",
         "Maine",
         "United States",
         70
        ],
        [
         "micro",
         "Laois",
         "Ireland",
         2
        ],
        [
         "micro",
         "Nebraska",
         "United States",
         35
        ],
        [
         "large",
         "Nieder�sterreich",
         "Austria",
         2
        ],
        [
         "proprietor",
         "North Carolina",
         "United States",
         3
        ],
        [
         "brewpub",
         "South Dakota",
         "United States",
         15
        ],
        [
         "regional",
         "Washington",
         "United States",
         7
        ],
        [
         "closed",
         "Oklahoma",
         "United States",
         1
        ],
        [
         "closed",
         "Connecticut",
         "United States",
         6
        ],
        [
         "brewpub",
         "Indiana",
         "United States",
         76
        ],
        [
         "brewpub",
         "dolnośląskie",
         "Poland",
         11
        ],
        [
         "brewpub",
         "Cork",
         "Ireland",
         3
        ],
        [
         "brewpub",
         "Alabama",
         "United States",
         4
        ],
        [
         "brewpub",
         "Minnesota",
         "United States",
         44
        ],
        [
         "regional",
         "Maine",
         "United States",
         3
        ],
        [
         "regional",
         "Delaware",
         "United States",
         1
        ],
        [
         "taproom",
         "Washington",
         "United States",
         3
        ],
        [
         "brewpub",
         "Virginia",
         "United States",
         55
        ],
        [
         "planning",
         "Oregon",
         "United States",
         12
        ],
        [
         "closed",
         "West Virginia",
         "United States",
         3
        ],
        [
         "large",
         "Virginia",
         "United States",
         5
        ],
        [
         "planning",
         "California",
         "United States",
         64
        ],
        [
         "contract",
         "Illinois",
         "United States",
         11
        ],
        [
         "taproom",
         "West Sussex",
         "England",
         7
        ],
        [
         "contract",
         "California",
         "United States",
         27
        ],
        [
         "nano",
         "Washington",
         "United States",
         6
        ],
        [
         "contract",
         "North Carolina",
         "United States",
         5
        ],
        [
         "large",
         "Georgia",
         "United States",
         3
        ],
        [
         "planning",
         "Oklahoma",
         "United States",
         4
        ],
        [
         "micro",
         "Montana",
         "United States",
         61
        ],
        [
         "contract",
         "Florida",
         "United States",
         6
        ],
        [
         "micro",
         "New York",
         "United States",
         226
        ],
        [
         "brewpub",
         "Vermont",
         "United States",
         16
        ],
        [
         "planning",
         "Ohio",
         "United States",
         26
        ],
        [
         "micro",
         "Kerry",
         "Ireland",
         2
        ],
        [
         "micro",
         "Chungcheongnamdo",
         "South Korea",
         2
        ],
        [
         "micro",
         "Carlow",
         "Ireland",
         1
        ],
        [
         "micro",
         "West Dunbartonshire",
         "Scotland",
         4
        ],
        [
         "micro",
         "Missouri",
         "United States",
         66
        ],
        [
         "micro",
         "Minnesota",
         "United States",
         111
        ],
        [
         "large",
         "New Jersey",
         "United States",
         1
        ],
        [
         "micro",
         "Rhode Island",
         "United States",
         20
        ],
        [
         "micro",
         "Longford",
         "Ireland",
         1
        ],
        [
         "micro",
         "Middle",
         "Isle of Man",
         2
        ],
        [
         "bar",
         "Berlin",
         "Germany",
         3
        ],
        [
         "regional",
         "Virginia",
         "United States",
         3
        ],
        [
         "brewpub",
         "Illinois",
         "United States",
         88
        ],
        [
         "regional",
         "Florida",
         "United States",
         5
        ],
        [
         "brewpub",
         "Michigan",
         "United States",
         199
        ],
        [
         "closed",
         "Utah",
         "United States",
         4
        ],
        [
         "regional",
         "Wisconsin",
         "United States",
         9
        ],
        [
         "closed",
         "Missouri",
         "United States",
         13
        ],
        [
         "regional",
         "Kilkenny",
         "Ireland",
         2
        ],
        [
         "closed",
         "Texas",
         "United States",
         2
        ],
        [
         "micro",
         "North Carolina",
         "United States",
         180
        ],
        [
         "micro",
         "Ohio",
         "United States",
         163
        ],
        [
         "micro",
         "Louisiana",
         "United States",
         27
        ],
        [
         "proprietor",
         "New York",
         "United States",
         10
        ],
        [
         "proprietor",
         "Oregon",
         "United States",
         2
        ],
        [
         "contract",
         "Wisconsin",
         "United States",
         14
        ],
        [
         "regional",
         "District of Columbia",
         "United States",
         1
        ],
        [
         "brewpub",
         "Nevada",
         "United States",
         20
        ],
        [
         "micro",
         "dolnośląskie",
         "Poland",
         20
        ],
        [
         "proprietor",
         "Rhode Island",
         "United States",
         1
        ],
        [
         "micro",
         "Virginia",
         "United States",
         152
        ],
        [
         "regional",
         "Massachusetts",
         "United States",
         9
        ],
        [
         "closed",
         "Washington",
         "United States",
         74
        ],
        [
         "regional",
         "Utah",
         "United States",
         2
        ],
        [
         "closed",
         "South Carolina",
         "United States",
         1
        ],
        [
         "contract",
         "Mississippi",
         "United States",
         1
        ],
        [
         "regional",
         "Illinois",
         "United States",
         3
        ],
        [
         "brewpub",
         "Colorado",
         "United States",
         141
        ],
        [
         "micro",
         "Florida",
         "United States",
         190
        ],
        [
         "micro",
         "Iowa",
         "United States",
         56
        ],
        [
         "brewpub",
         "Gyeongsangnamdo",
         "South Korea",
         3
        ],
        [
         "planning",
         "Alaska",
         "United States",
         2
        ],
        [
         "brewpub",
         "Connecticut",
         "United States",
         11
        ],
        [
         "contract",
         "Oklahoma",
         "United States",
         4
        ],
        [
         "proprietor",
         "Minnesota",
         "United States",
         2
        ],
        [
         "brewpub",
         "California",
         "United States",
         253
        ],
        [
         "proprietor",
         "Ohio",
         "United States",
         1
        ],
        [
         "regional",
         "Missouri",
         "United States",
         8
        ],
        [
         "micro",
         "Monaghan",
         "Ireland",
         1
        ],
        [
         "brewpub",
         "Delaware",
         "United States",
         14
        ],
        [
         "proprietor",
         "Florida",
         "United States",
         4
        ],
        [
         "contract",
         "Ohio",
         "United States",
         7
        ],
        [
         "brewpub",
         "Texas",
         "United States",
         77
        ],
        [
         "micro",
         "Hawaii",
         "United States",
         7
        ],
        [
         "regional",
         "Colorado",
         "United States",
         11
        ],
        [
         "regional",
         "Montana",
         "United States",
         2
        ],
        [
         "brewpub",
         "Florida",
         "United States",
         65
        ],
        [
         "bar",
         "Singapore",
         "Singapore",
         28
        ],
        [
         "closed",
         "Nebraska",
         "United States",
         2
        ],
        [
         "nano",
         "North Dakota",
         "United States",
         2
        ],
        [
         "brewpub",
         "Tennessee",
         "United States",
         26
        ],
        [
         "micro",
         "Offaly",
         "Ireland",
         2
        ],
        [
         "micro",
         "West Sussex",
         "England",
         19
        ],
        [
         "brewpub",
         "Hawaii",
         "United States",
         12
        ],
        [
         "closed",
         "Wyoming",
         "United States",
         6
        ],
        [
         "contract",
         "Alaska",
         "United States",
         1
        ],
        [
         "planning",
         "Minnesota",
         "United States",
         13
        ],
        [
         "closed",
         "Colorado",
         "United States",
         9
        ],
        [
         "planning",
         "Connecticut",
         "United States",
         21
        ],
        [
         "contract",
         "New Mexico",
         "United States",
         1
        ],
        [
         "proprietor",
         "Texas",
         "United States",
         1
        ],
        [
         "large",
         "Florida",
         "United States",
         4
        ],
        [
         "regional",
         "dolnośląskie",
         "Poland",
         3
        ],
        [
         "brewpub",
         "New Mexico",
         "United States",
         44
        ],
        [
         "brewpub",
         "New York",
         "United States",
         111
        ],
        [
         "planning",
         "Virginia",
         "United States",
         34
        ],
        [
         "brewpub",
         "Nebraska",
         "United States",
         21
        ],
        [
         "brewpub",
         "Iowa",
         "United States",
         32
        ],
        [
         "regional",
         "New Hampshire",
         "United States",
         2
        ],
        [
         "micro",
         "Massachusetts",
         "United States",
         93
        ],
        [
         "micro",
         "Dublin",
         "Ireland",
         10
        ],
        [
         "micro",
         "Kansas",
         "United States",
         18
        ],
        [
         "planning",
         "Massachusetts",
         "United States",
         17
        ],
        [
         "micro",
         "Sligo",
         "Ireland",
         2
        ],
        [
         "proprietor",
         "Washington",
         "United States",
         2
        ],
        [
         "regional",
         "South Carolina",
         "United States",
         2
        ],
        [
         "micro",
         "Alabama",
         "United States",
         32
        ],
        [
         "planning",
         "North Carolina",
         "United States",
         29
        ],
        [
         "large",
         "Wisconsin",
         "United States",
         5
        ],
        [
         "large",
         "Maryland",
         "United States",
         1
        ],
        [
         "planning",
         "Kansas",
         "United States",
         7
        ],
        [
         "regional",
         "New Jersey",
         "United States",
         1
        ],
        [
         "proprietor",
         "Indiana",
         "United States",
         1
        ],
        [
         "large",
         "K�rnten",
         "Austria",
         2
        ],
        [
         "micro",
         "New Mexico",
         "United States",
         30
        ],
        [
         "brewpub",
         "West Sussex",
         "England",
         5
        ],
        [
         "brewpub",
         "Oregon",
         "United States",
         106
        ],
        [
         "regional",
         "Kansas",
         "United States",
         1
        ],
        [
         "planning",
         "Vermont",
         "United States",
         2
        ],
        [
         "contract",
         "District of Columbia",
         "United States",
         2
        ],
        [
         "micro",
         "Oregon",
         "United States",
         142
        ],
        [
         "regional",
         "Indiana",
         "United States",
         3
        ],
        [
         "brewpub",
         "Maryland",
         "United States",
         26
        ],
        [
         "location",
         "Washington",
         "United States",
         1
        ],
        [
         "regional",
         "Hawaii",
         "United States",
         1
        ],
        [
         "planning",
         "New Mexico",
         "United States",
         5
        ],
        [
         "micro",
         "Delaware",
         "United States",
         10
        ],
        [
         "closed",
         "Oregon",
         "United States",
         11
        ],
        [
         "brewpub",
         "Clare",
         "Ireland",
         1
        ],
        [
         "brewpub",
         "Georgia",
         "United States",
         25
        ],
        [
         "large",
         "Cork",
         "Ireland",
         2
        ],
        [
         "micro",
         "East Dunbartonshire",
         "Scotland",
         1
        ],
        [
         "planning",
         "Wisconsin",
         "United States",
         9
        ],
        [
         "brewpub",
         "Kerry",
         "Ireland",
         1
        ],
        [
         "regional",
         "Michigan",
         "United States",
         9
        ],
        [
         "planning",
         "Delaware",
         "United States",
         2
        ],
        [
         "large",
         "Oregon",
         "United States",
         6
        ],
        [
         "brewpub",
         "North Dakota",
         "United States",
         8
        ],
        [
         "closed",
         "Idaho",
         "United States",
         5
        ],
        [
         "brewpub",
         "Incheon",
         "South Korea",
         2
        ],
        [
         "micro",
         "Tennessee",
         "United States",
         59
        ],
        [
         "closed",
         "North Dakota",
         "United States",
         3
        ],
        [
         "regional",
         "Tennessee",
         "United States",
         2
        ],
        [
         "brewpub",
         "Coimbra",
         "Portugal",
         1
        ],
        [
         "regional",
         "North Carolina",
         "United States",
         13
        ],
        [
         "brewpub",
         "Jeollanamdo",
         "South Korea",
         1
        ],
        [
         "brewpub",
         "Arizona",
         "United States",
         46
        ],
        [
         "large",
         "North Carolina",
         "United States",
         4
        ],
        [
         "brewpub",
         "Washington",
         "United States",
         113
        ],
        [
         "brewpub",
         "New Hampshire",
         "United States",
         22
        ],
        [
         "micro",
         "New Jersey",
         "United States",
         79
        ],
        [
         "micro",
         "Idaho",
         "United States",
         36
        ],
        [
         "planning",
         "Maryland",
         "United States",
         18
        ],
        [
         "contract",
         "Connecticut",
         "United States",
         5
        ],
        [
         "micro",
         "Washington",
         "United States",
         268
        ],
        [
         "planning",
         "South Dakota",
         "United States",
         2
        ],
        [
         "brewpub",
         "Westmeath",
         "Ireland",
         1
        ],
        [
         "contract",
         "Washington",
         "United States",
         4
        ],
        [
         "brewpub",
         "Louisiana",
         "United States",
         5
        ],
        [
         "large",
         "California",
         "United States",
         15
        ],
        [
         "proprietor",
         "Tennessee",
         "United States",
         2
        ],
        [
         "brewpub",
         "Gyeonggido",
         "South Korea",
         8
        ],
        [
         "micro",
         "Pennsylvania",
         "United States",
         129
        ],
        [
         "regional",
         "Vermont",
         "United States",
         7
        ],
        [
         "brewpub",
         "Oklahoma",
         "United States",
         5
        ],
        [
         "closed",
         "Louisiana",
         "United States",
         1
        ],
        [
         "contract",
         "Michigan",
         "United States",
         3
        ],
        [
         "brewpub",
         "Dublin",
         "Ireland",
         3
        ],
        [
         "bar",
         "Nevada",
         "United States",
         1
        ],
        [
         "contract",
         "Tennessee",
         "United States",
         1
        ],
        [
         "regional",
         "Connecticut",
         "United States",
         2
        ],
        [
         "micro",
         "Galway",
         "Ireland",
         1
        ],
        [
         "brewpub",
         "Chungcheongbukdo",
         "South Korea",
         1
        ],
        [
         "contract",
         "Idaho",
         "United States",
         1
        ],
        [
         "proprietor",
         "Maryland",
         "United States",
         2
        ],
        [
         "planning",
         "Utah",
         "United States",
         3
        ],
        [
         "large",
         "Idaho",
         "United States",
         1
        ],
        [
         "brewpub",
         "Aveiro",
         "Portugal",
         1
        ],
        [
         "micro",
         "Meath",
         "Ireland",
         1
        ],
        [
         "regional",
         "Alaska",
         "United States",
         1
        ],
        [
         "brewpub",
         "Daejeon",
         "South Korea",
         1
        ],
        [
         "proprietor",
         "West Virginia",
         "United States",
         1
        ],
        [
         "contract",
         "Louisiana",
         "United States",
         2
        ],
        [
         "regional",
         "Rhode Island",
         "United States",
         1
        ],
        [
         "proprietor",
         "South Dakota",
         "United States",
         1
        ],
        [
         "large",
         "East Sussex",
         "England",
         1
        ],
        [
         "micro",
         "Louth",
         "Ireland",
         1
        ],
        [
         "micro",
         "Donegal",
         "Ireland",
         3
        ],
        [
         "large",
         "Oberösterreich",
         "Austria",
         1
        ],
        [
         "brewpub",
         "Leiria",
         "Portugal",
         1
        ],
        [
         "micro",
         "Wexford",
         "Ireland",
         2
        ],
        [
         "planning",
         "Nevada",
         "United States",
         5
        ],
        [
         "nano",
         "Wisconsin",
         "United States",
         1
        ],
        [
         "contract",
         "Montana",
         "United States",
         2
        ],
        [
         "micro",
         "Mayo",
         "Ireland",
         2
        ],
        [
         "planning",
         "West Virginia",
         "United States",
         1
        ],
        [
         "regional",
         "Dublin",
         "Ireland",
         2
        ],
        [
         "regional",
         "Kentucky",
         "United States",
         1
        ],
        [
         "large",
         "Delaware",
         "United States",
         1
        ],
        [
         "regional",
         "Louisiana",
         "United States",
         1
        ],
        [
         "brewpub",
         "Porto",
         "Portugal",
         1
        ],
        [
         "nano",
         "Oberösterreich",
         "Austria",
         1
        ],
        [
         "large",
         "New Hampshire",
         "United States",
         1
        ],
        [
         "regional",
         "Cork",
         "Ireland",
         1
        ],
        [
         "regional",
         "Donegal",
         "Ireland",
         1
        ],
        [
         "closed",
         "New Hampshire",
         "United States",
         1
        ],
        [
         "contract",
         "Oregon",
         "United States",
         3
        ],
        [
         "closed",
         "Ohio",
         "United States",
         1
        ],
        [
         "micro",
         "Gyeonggido",
         "South Korea",
         1
        ],
        [
         "micro",
         "Bouche du Rhône",
         "France",
         3
        ],
        [
         "micro",
         "Roscommon",
         "Ireland",
         1
        ],
        [
         "closed",
         "Bute",
         "Scotland",
         1
        ],
        [
         "bar",
         "Steiermark",
         "Austria",
         2
        ],
        [
         "micro",
         "Kildare",
         "Ireland",
         3
        ],
        [
         "proprietor",
         "Idaho",
         "United States",
         1
        ],
        [
         "proprietor",
         "New Mexico",
         "United States",
         1
        ],
        [
         "large",
         "Dublin",
         "Ireland",
         1
        ],
        [
         "large",
         "Berlin",
         "Germany",
         1
        ],
        [
         "micro",
         "Argyll",
         "Scotland",
         4
        ],
        [
         "micro",
         "MIssouri",
         "United States",
         1
        ],
        [
         "micro",
         "Busan",
         "South Korea",
         1
        ],
        [
         "brewpub",
         "Deagu",
         "South Korea",
         1
        ],
        [
         "micro",
         "Kilkenny",
         "Ireland",
         1
        ],
        [
         "nano",
         "Tennessee",
         "United States",
         1
        ],
        [
         "regional",
         "Wicklow",
         "Ireland",
         1
        ],
        [
         "micro",
         "Limerick",
         "Ireland",
         2
        ],
        [
         "brewpub",
         "Gyeongsangbukdo",
         "South Korea",
         2
        ],
        [
         "contract",
         "Missouri",
         "United States",
         1
        ],
        [
         "bar",
         "North Dakota",
         "United States",
         1
        ],
        [
         "micro",
         "Gyeongsangbukdo",
         "South Korea",
         1
        ],
        [
         "closed",
         "Iowa",
         "United States",
         2
        ],
        [
         "large",
         "Singapore",
         "Singapore",
         1
        ],
        [
         "contract",
         "Arizona",
         "United States",
         4
        ],
        [
         "contract",
         "Iowa",
         "United States",
         1
        ],
        [
         "contract",
         "Maine",
         "United States",
         2
        ],
        [
         "micro",
         "Faro",
         "Portugal",
         1
        ],
        [
         "contract",
         "South Carolina",
         "United States",
         1
        ],
        [
         "contract",
         "South Dakota",
         "United States",
         1
        ]
       ],
       "datasetInfos": [],
       "dbfsResultPath": null,
       "isJsonSchema": true,
       "metadata": {},
       "overflow": false,
       "plotOptions": {
        "customPlotOptions": {},
        "displayType": "table",
        "pivotAggregation": null,
        "pivotColumns": null,
        "xColumns": null,
        "yColumns": null
       },
       "removedWidgets": [],
       "schema": [
        {
         "metadata": "{}",
         "name": "brewery_type",
         "type": "\"string\""
        },
        {
         "metadata": "{}",
         "name": "state",
         "type": "\"string\""
        },
        {
         "metadata": "{}",
         "name": "country",
         "type": "\"string\""
        },
        {
         "metadata": "{}",
         "name": "quantidade_cervejarias",
         "type": "\"long\""
        }
       ],
       "type": "table"
      }
     },
     "output_type": "display_data"
    }
   ],
   "source": [
    "# Aggregation by brewery type and location\n",
    "gold_type_location = gold_breweries_df.groupBy(\"brewery_type\", \"state\", \"country\").count() \\\n",
    "                               .withColumnRenamed(\"count\", \"quantidade_cervejarias\")\n",
    "\n",
    "\n",
    "# Displaying the result\n",
    "#gold_type_location.display()"
   ]
  },
  {
   "cell_type": "markdown",
   "metadata": {
    "application/vnd.databricks.v1+cell": {
     "cellMetadata": {
      "byteLimit": 2048000,
      "rowLimit": 10000
     },
     "inputWidgets": {},
     "nuid": "f17d2bc7-8cfe-4286-85d7-2820e1b61e67",
     "showTitle": false,
     "tableResultSettingsMap": {},
     "title": ""
    }
   },
   "source": [
    "### Saving the Gold Layer in Delta Lake"
   ]
  },
  {
   "cell_type": "code",
   "execution_count": 0,
   "metadata": {
    "application/vnd.databricks.v1+cell": {
     "cellMetadata": {
      "byteLimit": 2048000,
      "rowLimit": 10000
     },
     "inputWidgets": {},
     "nuid": "e27d10e7-e749-4cbd-bd45-5fd0ee92a6d0",
     "showTitle": false,
     "tableResultSettingsMap": {},
     "title": ""
    }
   },
   "outputs": [],
   "source": [
    "# Saving the aggregation by brewery type to the Gold layer\n",
    "gold_brewery_type.write.format(\"delta\").mode(\"overwrite\").saveAsTable(\"gold_cervejarias_por_tipo\")\n",
    "\n",
    "# Saving the aggregation by location to the Gold layer\n",
    "gold_location.write.format(\"delta\").mode(\"overwrite\").saveAsTable(\"gold_cervejarias_por_localizacao\")\n",
    "\n",
    "# Saving the combined aggregation (brewery type and location) to the Gold layer\n",
    "gold_type_location.write.format(\"delta\").mode(\"overwrite\").saveAsTable(\"gold_cervejarias_tipo_localizacao\")"
   ]
  }
 ],
 "metadata": {
  "application/vnd.databricks.v1+notebook": {
   "computePreferences": null,
   "dashboards": [],
   "environmentMetadata": {
    "base_environment": "",
    "client": "1"
   },
   "language": "python",
   "notebookMetadata": {
    "pythonIndentUnit": 4
   },
   "notebookName": "Gold_Layer",
   "widgets": {}
  }
 },
 "nbformat": 4,
 "nbformat_minor": 0
}
